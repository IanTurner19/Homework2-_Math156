{
 "cells": [
  {
   "attachments": {},
   "cell_type": "markdown",
   "metadata": {},
   "source": [
    "## Question 4\n",
    "\n",
    "### (a)"
   ]
  },
  {
   "cell_type": "code",
   "execution_count": 81,
   "metadata": {},
   "outputs": [
    {
     "name": "stdout",
     "output_type": "stream",
     "text": [
      "   fixed acidity  volatile acidity  citric acid  residual sugar  chlorides  \\\n",
      "0            7.4              0.70         0.00             1.9      0.076   \n",
      "1            7.8              0.88         0.00             2.6      0.098   \n",
      "2            7.8              0.76         0.04             2.3      0.092   \n",
      "3           11.2              0.28         0.56             1.9      0.075   \n",
      "4            7.4              0.70         0.00             1.9      0.076   \n",
      "\n",
      "   free sulfur dioxide  total sulfur dioxide  density    pH  sulphates  \\\n",
      "0                 11.0                  34.0   0.9978  3.51       0.56   \n",
      "1                 25.0                  67.0   0.9968  3.20       0.68   \n",
      "2                 15.0                  54.0   0.9970  3.26       0.65   \n",
      "3                 17.0                  60.0   0.9980  3.16       0.58   \n",
      "4                 11.0                  34.0   0.9978  3.51       0.56   \n",
      "\n",
      "   alcohol  quality  \n",
      "0      9.4        5  \n",
      "1      9.8        5  \n",
      "2      9.8        5  \n",
      "3      9.8        6  \n",
      "4      9.4        5  \n",
      "   fixed acidity  volatile acidity  citric acid  residual sugar  chlorides  \\\n",
      "0            7.4              0.70         0.00             1.9      0.076   \n",
      "1            7.8              0.88         0.00             2.6      0.098   \n",
      "2            7.8              0.76         0.04             2.3      0.092   \n",
      "3           11.2              0.28         0.56             1.9      0.075   \n",
      "4            7.4              0.70         0.00             1.9      0.076   \n",
      "\n",
      "   free sulfur dioxide  total sulfur dioxide  density    pH  sulphates  \\\n",
      "0                 11.0                  34.0   0.9978  3.51       0.56   \n",
      "1                 25.0                  67.0   0.9968  3.20       0.68   \n",
      "2                 15.0                  54.0   0.9970  3.26       0.65   \n",
      "3                 17.0                  60.0   0.9980  3.16       0.58   \n",
      "4                 11.0                  34.0   0.9978  3.51       0.56   \n",
      "\n",
      "   alcohol  \n",
      "0      9.4  \n",
      "1      9.8  \n",
      "2      9.8  \n",
      "3      9.8  \n",
      "4      9.4  \n",
      "0    5\n",
      "1    5\n",
      "2    5\n",
      "3    6\n",
      "4    5\n",
      "Name: quality, dtype: int64\n"
     ]
    }
   ],
   "source": [
    "# Reload the dataset to ensure it's correctly loaded\n",
    "wine_data = pd.read_csv(\"winequality-red.csv\", delimiter=';')\n",
    "\n",
    "# Check if the dataset was loaded properly\n",
    "print(wine_data.head())\n",
    "\n",
    "# Define X as all columns except the last one (features)\n",
    "X = wine_data.iloc[:, :-1]  # Select all columns except the last (features)\n",
    "y = wine_data.iloc[:, -1]   # Select the last column (target)\n",
    "\n",
    "# Check the structure of X and y\n",
    "print(X.head())  # Should display the first few rows of the feature matrix\n",
    "print(y.head())  # Should display the first few rows of the target variable\n"
   ]
  },
  {
   "attachments": {},
   "cell_type": "markdown",
   "metadata": {},
   "source": [
    "### (b)"
   ]
  },
  {
   "cell_type": "code",
   "execution_count": 82,
   "metadata": {},
   "outputs": [],
   "source": [
    "from sklearn.model_selection import train_test_split\n",
    "\n",
    "\n",
    "# Drop the last column (target column) by index\n",
    "X = wine_data.iloc[:, :-1]  # Select all columns except the last one (features)\n",
    "y = wine_data.iloc[:, -1]   # Select the last column (target, which should be 'quality')\n",
    "\n",
    "# Split the data into 60% training and 40% temporary (validation + test)\n",
    "X_train, X_temp, y_train, y_temp = train_test_split(X, y, test_size=0.4, random_state=42)\n",
    "\n",
    "# Split the temporary 40% into 50% validation and 50% test (each 20% of the total data)\n",
    "X_val, X_test, y_val, y_test = train_test_split(X_temp, y_temp, test_size=0.5, random_state=42)\n"
   ]
  },
  {
   "attachments": {},
   "cell_type": "markdown",
   "metadata": {},
   "source": [
    "### (c)"
   ]
  },
  {
   "cell_type": "code",
   "execution_count": 83,
   "metadata": {},
   "outputs": [
    {
     "name": "stdout",
     "output_type": "stream",
     "text": [
      "Root Mean Squared Error (RMSE): 0.6455750670692045\n",
      "Calculated Weights (w): [ 2.19652084e+01  2.49905527e-02 -1.08359026e+00 -1.82563948e-01\n",
      "  1.63312698e-02 -1.87422516e+00  4.36133331e-03 -3.26457970e-03\n",
      " -1.78811638e+01 -4.13653144e-01  9.16334413e-01  2.76197699e-01]\n"
     ]
    }
   ],
   "source": [
    "import numpy as np\n",
    "\n",
    "X_intercept = np.c_[np.ones(X.shape[0]), X]\n",
    "\n",
    "# Step 4: Closed-form solution (Normal Equation) to calculate weights\n",
    "# w = (X^T * X)^(-1) * X^T * y\n",
    "w = np.linalg.inv(X_intercept.T @ X_intercept) @ X_intercept.T @ y\n",
    "\n",
    "# Step 5: Make predictions on the training set\n",
    "y_train_pred = X_intercept @ w\n",
    "\n",
    "\n",
    "# Step 7: Compute the Root Mean Squared Error (RMSE)\n",
    "rmse = np.sqrt(sse / len(y))\n",
    "print(f\"Root Mean Squared Error (RMSE): {rmse}\")\n",
    "\n",
    "# Step 8: Print the calculated weights\n",
    "print(\"Calculated Weights (w):\", w)\n"
   ]
  },
  {
   "attachments": {},
   "cell_type": "markdown",
   "metadata": {},
   "source": [
    "### (d)"
   ]
  },
  {
   "cell_type": "code",
   "execution_count": 84,
   "metadata": {},
   "outputs": [
    {
     "data": {
      "image/png": "[encoded data removed]",
      "text/plain": [
       "<Figure size 640x480 with 1 Axes>"
      ]
     },
     "metadata": {},
     "output_type": "display_data"
    }
   ],
   "source": [
    "import matplotlib.pyplot as plt\n",
    "\n",
    "# Step 1: Plot the actual vs predicted values on the training set\n",
    "plt.scatter(y, y_train_pred, color='blue', label='Predicted vs Actual')\n",
    "\n",
    "# Step 2: Plot the reference line (y = x) to see how close the predictions are to actual values\n",
    "plt.plot([y.min(), y.max()], [y.min(), y.max()], color='red', linestyle='--', label='Ideal Fit (y=x)')\n",
    "\n",
    "# Step 3: Label the axes and add a title\n",
    "plt.xlabel('Actual Quality')\n",
    "plt.ylabel('Predicted Quality')\n",
    "plt.title('Actual vs Predicted Quality on Training Set')\n",
    "\n",
    "# Add a legend to clarify what the blue points and red line represent\n",
    "plt.legend()\n",
    "\n",
    "# Display the plot\n",
    "plt.show()\n",
    "\n"
   ]
  },
  {
   "attachments": {},
   "cell_type": "markdown",
   "metadata": {},
   "source": [
    "### (e)"
   ]
  },
  {
   "cell_type": "code",
   "execution_count": 85,
   "metadata": {},
   "outputs": [
    {
     "name": "stdout",
     "output_type": "stream",
     "text": [
      "Training RMSE: 0.6455750670692045\n",
      "Test RMSE: 0.6738594089102654\n"
     ]
    }
   ],
   "source": [
    "from sklearn.metrics import mean_squared_error\n",
    "\n",
    "# Add intercept term to X_test\n",
    "X_test_intercept = np.c_[np.ones(X_test.shape[0]), X_test]\n",
    "\n",
    "# Step 1: Make predictions for the test set\n",
    "y_test_pred = X_test_intercept @ w\n",
    "\n",
    "# Step 2: Calculate RMSE for training set\n",
    "rmse_train = np.sqrt(mean_squared_error(y, y_train_pred))\n",
    "print(f\"Training RMSE: {rmse_train}\")\n",
    "\n",
    "# Step 3: Calculate RMSE for test set\n",
    "rmse_test = np.sqrt(mean_squared_error(y_test, y_test_pred))\n",
    "print(f\"Test RMSE: {rmse_test}\")\n"
   ]
  },
  {
   "attachments": {},
   "cell_type": "markdown",
   "metadata": {},
   "source": [
    "### (f)"
   ]
  },
  {
   "cell_type": "code",
   "execution_count": 86,
   "metadata": {},
   "outputs": [
    {
     "name": "stdout",
     "output_type": "stream",
     "text": [
      "Epoch 0, Weights: [-1.63030215 -0.71848487 -1.31026392 -1.02883925  1.40434621  0.59326229\n",
      " -0.50100091 -0.05309806  0.26897017  0.63351986 -1.29978485  0.52477535]\n",
      "Epoch 100, Weights: [-1.62369124 -0.66058758 -1.30703526 -1.0269755   1.41590498  0.59383092\n",
      " -0.37475765  0.14453436  0.2755587   0.65532817 -1.29524811  0.59431858]\n",
      "Epoch 200, Weights: [-1.62099107 -0.63484696 -1.30587058 -1.0261749   1.41702873  0.59405793\n",
      " -0.32650528  0.12160985  0.27824917  0.66417355 -1.29330812  0.62315865]\n",
      "Epoch 300, Weights: [-1.61875486 -0.61311009 -1.3049272  -1.02548912  1.41704383  0.59424726\n",
      " -0.28550627  0.10221042  0.28047735  0.67146466 -1.29167435  0.64684336]\n",
      "Epoch 400, Weights: [-1.61690424 -0.59470041 -1.30416745 -1.02489846  1.4161408   0.59440528\n",
      " -0.25060651  0.08587474  0.28232135  0.67746391 -1.29029511  0.66624231]\n",
      "Epoch 500, Weights: [-1.61537505 -0.57906391 -1.30356061 -1.02438687  1.41447516  0.59453721\n",
      " -0.22086445  0.07211561  0.28384509  0.68238607 -1.28912811  0.68206824]\n",
      "Epoch 600, Weights: [-1.61411362 -0.56573714 -1.30308097 -1.02394094  1.41217706  0.59464743\n",
      " -0.19548659  0.0605236   0.28510204  0.68641087 -1.28813794  0.69491765]\n",
      "Epoch 700, Weights: [-1.61307506 -0.55433259 -1.30270703 -1.02354948  1.4093554   0.59473958\n",
      " -0.17380396  0.05075459  0.28613695  0.6896887  -1.28729501  0.70528955]\n",
      "Epoch 800, Weights: [-1.61222181 -0.54452637 -1.30242083 -1.02320314  1.40610128  0.5948167\n",
      " -0.15525236  0.04251936  0.28698722  0.69234531 -1.28657456  0.71360128]\n",
      "Epoch 900, Weights: [-1.6115225  -0.53604792 -1.30220737 -1.02289414  1.40249085  0.59488136\n",
      " -0.13935578  0.03557481  0.28768412  0.69448583 -1.2859559   0.72020172]\n"
     ]
    }
   ],
   "source": [
    "# Step 6: LMS Algorithm (Least-Mean-Squares) function\n",
    "def lms(X, y, learning_rate=0.00001, epochs=1000):\n",
    "    # Initialize weights randomly\n",
    "    w = np.random.randn(X.shape[1])\n",
    "    \n",
    "    # Iterate through epochs\n",
    "    for epoch in range(epochs):\n",
    "        # Compute predictions\n",
    "        y_pred = X @ w  # Matrix multiplication to get predictions\n",
    "        \n",
    "        # Compute the gradient\n",
    "        gradient = -2 * X.T @ (y - y_pred) / len(y)\n",
    "        \n",
    "        # Check for NaNs or Infs in gradient\n",
    "        if np.isnan(gradient).any() or np.isinf(gradient).any():\n",
    "            print(f\"NaN or Inf detected in gradient at epoch {epoch}\")\n",
    "            break\n",
    "        \n",
    "        # Update weights\n",
    "        w -= learning_rate * gradient\n",
    "        \n",
    "        # Check for NaNs or Infs in weights\n",
    "        if np.isnan(w).any() or np.isinf(w).any():\n",
    "            print(f\"NaN or Inf detected in weights at epoch {epoch}\")\n",
    "            break\n",
    "        \n",
    "        # Optional: Print weights every 100 epochs for debugging\n",
    "        if epoch % 100 == 0:\n",
    "            print(f\"Epoch {epoch}, Weights: {w}\")\n",
    "    \n",
    "    return w\n",
    "\n",
    "# Step 7: Train using LMS\n",
    "w_lms = lms(X_train_intercept, y_train, learning_rate=0.00001, epochs=1000)\n"
   ]
  },
  {
   "cell_type": "code",
   "execution_count": 87,
   "metadata": {},
   "outputs": [
    {
     "name": "stdout",
     "output_type": "stream",
     "text": [
      "NaNs in y_train: 0\n",
      "NaNs in y_test: 0\n",
      "NaNs in y_train_pred_lms: 0\n",
      "NaNs in y_test_pred_lms: 0\n"
     ]
    }
   ],
   "source": [
    "# Check if any NaN values exist in y_train, y_test, or the predicted values\n",
    "print(f\"NaNs in y_train: {np.isnan(y_train).sum()}\")\n",
    "print(f\"NaNs in y_test: {np.isnan(y_test).sum()}\")\n",
    "print(f\"NaNs in y_train_pred_lms: {np.isnan(y_train_pred_lms).sum()}\")\n",
    "print(f\"NaNs in y_test_pred_lms: {np.isnan(y_test_pred_lms).sum()}\")\n"
   ]
  },
  {
   "attachments": {},
   "cell_type": "markdown",
   "metadata": {},
   "source": [
    "### (g)"
   ]
  },
  {
   "cell_type": "code",
   "execution_count": 88,
   "metadata": {},
   "outputs": [
    {
     "name": "stdout",
     "output_type": "stream",
     "text": [
      "LMS Training RMSE: 2.4736309135255596\n",
      "LMS Test RMSE: 2.2992338211927126\n"
     ]
    }
   ],
   "source": [
    "\n",
    "# Step 8: Make predictions on training and test sets using LMS\n",
    "y_train_pred_lms = X_train_intercept @ w_lms\n",
    "y_test_pred_lms = X_test_intercept @ w_lms\n",
    "\n",
    "# Step 11: Calculate RMSE for LMS on the training and test sets\n",
    "rmse_train_lms = np.sqrt(mean_squared_error(y_train, y_train_pred_lms))\n",
    "rmse_test_lms = np.sqrt(mean_squared_error(y_test, y_test_pred_lms))\n",
    "\n",
    "# Print the results\n",
    "print(f\"LMS Training RMSE: {rmse_train_lms}\")\n",
    "print(f\"LMS Test RMSE: {rmse_test_lms}\")\n"
   ]
  }
 ],
 "metadata": {
  "kernelspec": {
   "display_name": "Python 3",
   "language": "python",
   "name": "python3"
  },
  "language_info": {
   "codemirror_mode": {
    "name": "ipython",
    "version": 3
   },
   "file_extension": ".py",
   "mimetype": "text/x-python",
   "name": "python",
   "nbconvert_exporter": "python",
   "pygments_lexer": "ipython3",
   "version": "3.11.2"
  },
  "orig_nbformat": 4
 },
 "nbformat": 4,
 "nbformat_minor": 2
}
